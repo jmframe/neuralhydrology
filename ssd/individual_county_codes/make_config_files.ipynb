{
 "cells": [
  {
   "cell_type": "code",
   "execution_count": 5,
   "id": "a93f5999",
   "metadata": {},
   "outputs": [],
   "source": [
    "import sys\n",
    "import os\n",
    "import shutil"
   ]
  },
  {
   "cell_type": "code",
   "execution_count": 2,
   "id": "641232c3",
   "metadata": {},
   "outputs": [],
   "source": [
    "with open(\"../all_county_codes.txt\", \"r\") as f:\n",
    "    all_county_codes = f.read()\n",
    "    all_county_codes = all_county_codes.splitlines()"
   ]
  },
  {
   "cell_type": "code",
   "execution_count": 6,
   "id": "21fa3e20",
   "metadata": {},
   "outputs": [],
   "source": [
    "for county_code in all_county_codes:\n",
    "    shutil.copyfile(\"1_county_code.yml\", f\"{county_code}.yml\")\n",
    "    \n",
    "    # Read in the file\n",
    "    with open(f\"{county_code}.yml\", \"r\") as file:\n",
    "        filedata = file.read()\n",
    "\n",
    "    # Replace the target string\n",
    "    filedata = filedata.replace(\"1_county_code\", f\"{county_code}\")\n",
    "\n",
    "    # Write the file out again\n",
    "    with open(f\"{county_code}.yml\", \"w\") as file:\n",
    "        file.write(filedata)"
   ]
  },
  {
   "cell_type": "code",
   "execution_count": null,
   "id": "b8dc4d9f",
   "metadata": {},
   "outputs": [],
   "source": [
    " "
   ]
  }
 ],
 "metadata": {
  "kernelspec": {
   "display_name": "Python 3 (ipykernel)",
   "language": "python",
   "name": "python3"
  },
  "language_info": {
   "codemirror_mode": {
    "name": "ipython",
    "version": 3
   },
   "file_extension": ".py",
   "mimetype": "text/x-python",
   "name": "python",
   "nbconvert_exporter": "python",
   "pygments_lexer": "ipython3",
   "version": "3.8.12"
  }
 },
 "nbformat": 4,
 "nbformat_minor": 5
}
